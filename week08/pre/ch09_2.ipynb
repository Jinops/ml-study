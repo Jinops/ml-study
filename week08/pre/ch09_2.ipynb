{
  "nbformat": 4,
  "nbformat_minor": 0,
  "metadata": {
    "colab": {
      "provenance": [],
      "gpuType": "T4",
      "authorship_tag": "ABX9TyP92nL3f3mhV+sGenVLF1l6",
      "include_colab_link": true
    },
    "kernelspec": {
      "name": "python3",
      "display_name": "Python 3"
    },
    "language_info": {
      "name": "python"
    },
    "accelerator": "GPU",
    "gpuClass": "standard"
  },
  "cells": [
    {
      "cell_type": "markdown",
      "metadata": {
        "id": "view-in-github",
        "colab_type": "text"
      },
      "source": [
        "<a href=\"https://colab.research.google.com/github/Jinops/ml-study/blob/main/week08/pre/ch09_2.ipynb\" target=\"_parent\"><img src=\"https://colab.research.google.com/assets/colab-badge.svg\" alt=\"Open In Colab\"/></a>"
      ]
    },
    {
      "cell_type": "code",
      "execution_count": 1,
      "metadata": {
        "colab": {
          "base_uri": "https://localhost:8080/"
        },
        "id": "5ffchVX0nIWH",
        "outputId": "1b02c01c-de7a-464d-8463-7beb7e926bdc"
      },
      "outputs": [
        {
          "output_type": "stream",
          "name": "stdout",
          "text": [
            "Downloading data from https://storage.googleapis.com/tensorflow/tf-keras-datasets/imdb.npz\n",
            "17464789/17464789 [==============================] - 0s 0us/step\n",
            "(25000,) (25000,)\n"
          ]
        }
      ],
      "source": [
        "from tensorflow.keras.datasets import imdb\n",
        "(train_input, train_target), (test_input, test_target) = imdb.load_data(num_words=500)\n",
        "print(train_input.shape, test_input.shape)"
      ]
    },
    {
      "cell_type": "code",
      "source": [
        "print(train_input[0])"
      ],
      "metadata": {
        "colab": {
          "base_uri": "https://localhost:8080/"
        },
        "id": "6ZosCOM2nmgU",
        "outputId": "e7847e48-8a8a-4759-842d-6b02bcde9616"
      },
      "execution_count": 4,
      "outputs": [
        {
          "output_type": "stream",
          "name": "stdout",
          "text": [
            "[1, 14, 22, 16, 43, 2, 2, 2, 2, 65, 458, 2, 66, 2, 4, 173, 36, 256, 5, 25, 100, 43, 2, 112, 50, 2, 2, 9, 35, 480, 284, 5, 150, 4, 172, 112, 167, 2, 336, 385, 39, 4, 172, 2, 2, 17, 2, 38, 13, 447, 4, 192, 50, 16, 6, 147, 2, 19, 14, 22, 4, 2, 2, 469, 4, 22, 71, 87, 12, 16, 43, 2, 38, 76, 15, 13, 2, 4, 22, 17, 2, 17, 12, 16, 2, 18, 2, 5, 62, 386, 12, 8, 316, 8, 106, 5, 4, 2, 2, 16, 480, 66, 2, 33, 4, 130, 12, 16, 38, 2, 5, 25, 124, 51, 36, 135, 48, 25, 2, 33, 6, 22, 12, 215, 28, 77, 52, 5, 14, 407, 16, 82, 2, 8, 4, 107, 117, 2, 15, 256, 4, 2, 7, 2, 5, 2, 36, 71, 43, 2, 476, 26, 400, 317, 46, 7, 4, 2, 2, 13, 104, 88, 4, 381, 15, 297, 98, 32, 2, 56, 26, 141, 6, 194, 2, 18, 4, 226, 22, 21, 134, 476, 26, 480, 5, 144, 30, 2, 18, 51, 36, 28, 224, 92, 25, 104, 4, 226, 65, 16, 38, 2, 88, 12, 16, 283, 5, 16, 2, 113, 103, 32, 15, 16, 2, 19, 178, 32]\n"
          ]
        }
      ]
    },
    {
      "cell_type": "code",
      "source": [
        "print(train_target[:20])"
      ],
      "metadata": {
        "colab": {
          "base_uri": "https://localhost:8080/"
        },
        "id": "Enyc1nf_nvKW",
        "outputId": "2146cbcb-b59d-4b2f-cc2b-721369170eda"
      },
      "execution_count": 5,
      "outputs": [
        {
          "output_type": "stream",
          "name": "stdout",
          "text": [
            "[1 0 0 1 0 0 1 0 1 0 1 0 0 0 0 0 1 1 0 1]\n"
          ]
        }
      ]
    },
    {
      "cell_type": "code",
      "source": [
        "# validation\n",
        "from sklearn.model_selection import train_test_split\n",
        "train_input, val_input, train_target, val_target = train_test_split(train_input, train_target, test_size=0.2, random_state=42)"
      ],
      "metadata": {
        "id": "fiT0o3l9nyuf"
      },
      "execution_count": 3,
      "outputs": []
    },
    {
      "cell_type": "code",
      "source": [
        "import numpy as np\n",
        "lengths = np.array([len(x) for x in train_input])\n",
        "print(np.mean(lengths), np.median(lengths))"
      ],
      "metadata": {
        "colab": {
          "base_uri": "https://localhost:8080/"
        },
        "id": "f8mQdcUZn-GN",
        "outputId": "0a4eadf9-d0d3-429b-ca66-f59909831731"
      },
      "execution_count": 12,
      "outputs": [
        {
          "output_type": "stream",
          "name": "stdout",
          "text": [
            "239.00925 178.0\n"
          ]
        }
      ]
    },
    {
      "cell_type": "code",
      "source": [
        "import matplotlib.pyplot as plt\n",
        "plt.hist(lengths)\n",
        "plt.xlabel('length')\n",
        "plt.ylabel('frequency')\n",
        "plt.show()"
      ],
      "metadata": {
        "colab": {
          "base_uri": "https://localhost:8080/",
          "height": 449
        },
        "id": "w_Tw9-QSoIb-",
        "outputId": "23aa7ba3-a9cf-4432-9e5b-48f8424024f3"
      },
      "execution_count": 13,
      "outputs": [
        {
          "output_type": "display_data",
          "data": {
            "text/plain": [
              "<Figure size 640x480 with 1 Axes>"
            ],
            "image/png": "[encoded data removed]"
          },
          "metadata": {}
        }
      ]
    },
    {
      "cell_type": "code",
      "source": [
        "# 패딩\n",
        "from tensorflow.keras.preprocessing.sequence import pad_sequences\n",
        "train_seq = pad_sequences(train_input, maxlen=100)\n",
        "val_seq = pad_sequences(val_input, maxlen=100)\n",
        "\n",
        "print(train_seq.shape)"
      ],
      "metadata": {
        "colab": {
          "base_uri": "https://localhost:8080/"
        },
        "id": "U1kLM9sXoagx",
        "outputId": "40c2de4b-234f-42b2-c654-cdff617cd44a"
      },
      "execution_count": 4,
      "outputs": [
        {
          "output_type": "stream",
          "name": "stdout",
          "text": [
            "(20000, 100)\n"
          ]
        }
      ]
    },
    {
      "cell_type": "code",
      "source": [
        "from tensorflow import keras\n",
        "model = keras.Sequential()\n",
        "model.add(keras.layers.SimpleRNN(8, input_shape=(100,500)))\n",
        "model.add(keras.layers.Dense(1, activation='sigmoid'))\n",
        "\n",
        "train_oh = keras.utils.to_categorical(train_seq)\n",
        "val_oh = keras.utils.to_categorical(val_seq)\n",
        "\n",
        "model.summary()"
      ],
      "metadata": {
        "colab": {
          "base_uri": "https://localhost:8080/"
        },
        "id": "YLYFpkWAppxJ",
        "outputId": "6d184882-718a-4dbc-8671-70df0777d845"
      },
      "execution_count": 14,
      "outputs": [
        {
          "output_type": "stream",
          "name": "stdout",
          "text": [
            "Model: \"sequential_1\"\n",
            "_________________________________________________________________\n",
            " Layer (type)                Output Shape              Param #   \n",
            "=================================================================\n",
            " simple_rnn (SimpleRNN)      (None, 8)                 4072      \n",
            "                                                                 \n",
            " dense (Dense)               (None, 1)                 9         \n",
            "                                                                 \n",
            "=================================================================\n",
            "Total params: 4,081\n",
            "Trainable params: 4,081\n",
            "Non-trainable params: 0\n",
            "_________________________________________________________________\n"
          ]
        }
      ]
    },
    {
      "cell_type": "code",
      "source": [
        "rmsprop = keras.optimizers.RMSprop(learning_rate=1e-4)\n",
        "model.compile(optimizer=rmsprop, loss='binary_crossentropy', metrics=['accuracy'])\n",
        "checkpoint_cb = keras.callbacks.ModelCheckpoint('best-simplernn-model.h5')\n",
        "early_stopping_cb = keras.callbacks.EarlyStopping(patience=3, restore_best_weights=True)\n",
        "history = model.fit(train_oh, train_target, epochs=100, batch_size=64, validation_data=(val_oh, val_target), callbacks=[checkpoint_cb, early_stopping_cb])"
      ],
      "metadata": {
        "colab": {
          "base_uri": "https://localhost:8080/"
        },
        "id": "wDN25u_CqJ1s",
        "outputId": "a094e809-8836-47c7-e549-06648a1bbd2d"
      },
      "execution_count": 21,
      "outputs": [
        {
          "output_type": "stream",
          "name": "stdout",
          "text": [
            "Epoch 1/100\n",
            "313/313 [==============================] - 24s 70ms/step - loss: 0.7076 - accuracy: 0.4954 - val_loss: 0.7051 - val_accuracy: 0.5006\n",
            "Epoch 2/100\n",
            "313/313 [==============================] - 25s 80ms/step - loss: 0.7019 - accuracy: 0.5007 - val_loss: 0.7009 - val_accuracy: 0.5064\n",
            "Epoch 3/100\n",
            "313/313 [==============================] - 15s 47ms/step - loss: 0.6976 - accuracy: 0.5086 - val_loss: 0.6977 - val_accuracy: 0.5086\n",
            "Epoch 4/100\n",
            "313/313 [==============================] - 15s 48ms/step - loss: 0.6942 - accuracy: 0.5179 - val_loss: 0.6953 - val_accuracy: 0.5086\n",
            "Epoch 5/100\n",
            "313/313 [==============================] - 14s 45ms/step - loss: 0.6914 - accuracy: 0.5265 - val_loss: 0.6933 - val_accuracy: 0.5122\n",
            "Epoch 6/100\n",
            "313/313 [==============================] - 18s 56ms/step - loss: 0.6889 - accuracy: 0.5342 - val_loss: 0.6915 - val_accuracy: 0.5210\n",
            "Epoch 7/100\n",
            "313/313 [==============================] - 16s 51ms/step - loss: 0.6866 - accuracy: 0.5429 - val_loss: 0.6898 - val_accuracy: 0.5286\n",
            "Epoch 8/100\n",
            "313/313 [==============================] - 16s 52ms/step - loss: 0.6844 - accuracy: 0.5512 - val_loss: 0.6883 - val_accuracy: 0.5386\n",
            "Epoch 9/100\n",
            "313/313 [==============================] - 17s 54ms/step - loss: 0.6822 - accuracy: 0.5580 - val_loss: 0.6868 - val_accuracy: 0.5418\n",
            "Epoch 10/100\n",
            "313/313 [==============================] - 15s 49ms/step - loss: 0.6800 - accuracy: 0.5660 - val_loss: 0.6853 - val_accuracy: 0.5482\n",
            "Epoch 11/100\n",
            "313/313 [==============================] - 15s 47ms/step - loss: 0.6775 - accuracy: 0.5742 - val_loss: 0.6837 - val_accuracy: 0.5530\n",
            "Epoch 12/100\n",
            "313/313 [==============================] - 14s 44ms/step - loss: 0.6749 - accuracy: 0.5792 - val_loss: 0.6820 - val_accuracy: 0.5582\n",
            "Epoch 13/100\n",
            "313/313 [==============================] - 14s 45ms/step - loss: 0.6720 - accuracy: 0.5872 - val_loss: 0.6801 - val_accuracy: 0.5630\n",
            "Epoch 14/100\n",
            "313/313 [==============================] - 15s 47ms/step - loss: 0.6688 - accuracy: 0.5942 - val_loss: 0.6779 - val_accuracy: 0.5674\n",
            "Epoch 15/100\n",
            "313/313 [==============================] - 16s 51ms/step - loss: 0.6653 - accuracy: 0.6025 - val_loss: 0.6751 - val_accuracy: 0.5736\n",
            "Epoch 16/100\n",
            "313/313 [==============================] - 15s 47ms/step - loss: 0.6612 - accuracy: 0.6094 - val_loss: 0.6712 - val_accuracy: 0.5768\n",
            "Epoch 17/100\n",
            "313/313 [==============================] - 14s 46ms/step - loss: 0.6561 - accuracy: 0.6179 - val_loss: 0.6654 - val_accuracy: 0.5930\n",
            "Epoch 18/100\n",
            "313/313 [==============================] - 15s 49ms/step - loss: 0.6473 - accuracy: 0.6317 - val_loss: 0.6508 - val_accuracy: 0.6122\n",
            "Epoch 19/100\n",
            "313/313 [==============================] - 14s 44ms/step - loss: 0.6073 - accuracy: 0.6766 - val_loss: 0.5915 - val_accuracy: 0.6888\n",
            "Epoch 20/100\n",
            "313/313 [==============================] - 15s 48ms/step - loss: 0.5665 - accuracy: 0.7130 - val_loss: 0.5688 - val_accuracy: 0.7120\n",
            "Epoch 21/100\n",
            "313/313 [==============================] - 15s 48ms/step - loss: 0.5396 - accuracy: 0.7363 - val_loss: 0.5452 - val_accuracy: 0.7330\n",
            "Epoch 22/100\n",
            "313/313 [==============================] - 14s 45ms/step - loss: 0.5214 - accuracy: 0.7514 - val_loss: 0.5325 - val_accuracy: 0.7430\n",
            "Epoch 23/100\n",
            "313/313 [==============================] - 14s 45ms/step - loss: 0.5071 - accuracy: 0.7616 - val_loss: 0.5205 - val_accuracy: 0.7494\n",
            "Epoch 24/100\n",
            "313/313 [==============================] - 13s 43ms/step - loss: 0.4939 - accuracy: 0.7695 - val_loss: 0.5144 - val_accuracy: 0.7500\n",
            "Epoch 25/100\n",
            "313/313 [==============================] - 14s 43ms/step - loss: 0.4825 - accuracy: 0.7793 - val_loss: 0.5026 - val_accuracy: 0.7630\n",
            "Epoch 26/100\n",
            "313/313 [==============================] - 14s 44ms/step - loss: 0.4732 - accuracy: 0.7828 - val_loss: 0.4950 - val_accuracy: 0.7666\n",
            "Epoch 27/100\n",
            "313/313 [==============================] - 15s 47ms/step - loss: 0.4654 - accuracy: 0.7890 - val_loss: 0.4883 - val_accuracy: 0.7736\n",
            "Epoch 28/100\n",
            "313/313 [==============================] - 15s 48ms/step - loss: 0.4590 - accuracy: 0.7914 - val_loss: 0.4834 - val_accuracy: 0.7730\n",
            "Epoch 29/100\n",
            "313/313 [==============================] - 15s 49ms/step - loss: 0.4521 - accuracy: 0.7972 - val_loss: 0.4867 - val_accuracy: 0.7696\n",
            "Epoch 30/100\n",
            "313/313 [==============================] - 15s 47ms/step - loss: 0.4469 - accuracy: 0.7998 - val_loss: 0.4765 - val_accuracy: 0.7796\n",
            "Epoch 31/100\n",
            "313/313 [==============================] - 14s 43ms/step - loss: 0.4429 - accuracy: 0.8008 - val_loss: 0.4750 - val_accuracy: 0.7792\n",
            "Epoch 32/100\n",
            "313/313 [==============================] - 14s 44ms/step - loss: 0.4386 - accuracy: 0.8036 - val_loss: 0.4775 - val_accuracy: 0.7748\n",
            "Epoch 33/100\n",
            "313/313 [==============================] - 15s 48ms/step - loss: 0.4344 - accuracy: 0.8070 - val_loss: 0.4694 - val_accuracy: 0.7802\n",
            "Epoch 34/100\n",
            "313/313 [==============================] - 14s 44ms/step - loss: 0.4310 - accuracy: 0.8087 - val_loss: 0.4675 - val_accuracy: 0.7802\n",
            "Epoch 35/100\n",
            "313/313 [==============================] - 15s 48ms/step - loss: 0.4280 - accuracy: 0.8110 - val_loss: 0.4679 - val_accuracy: 0.7836\n",
            "Epoch 36/100\n",
            "313/313 [==============================] - 14s 44ms/step - loss: 0.4251 - accuracy: 0.8117 - val_loss: 0.4645 - val_accuracy: 0.7792\n",
            "Epoch 37/100\n",
            "313/313 [==============================] - 14s 44ms/step - loss: 0.4228 - accuracy: 0.8146 - val_loss: 0.4620 - val_accuracy: 0.7828\n",
            "Epoch 38/100\n",
            "313/313 [==============================] - 15s 48ms/step - loss: 0.4198 - accuracy: 0.8160 - val_loss: 0.4627 - val_accuracy: 0.7832\n",
            "Epoch 39/100\n",
            "313/313 [==============================] - 15s 49ms/step - loss: 0.4187 - accuracy: 0.8150 - val_loss: 0.4594 - val_accuracy: 0.7864\n",
            "Epoch 40/100\n",
            "313/313 [==============================] - 16s 51ms/step - loss: 0.4161 - accuracy: 0.8166 - val_loss: 0.4595 - val_accuracy: 0.7834\n",
            "Epoch 41/100\n",
            "313/313 [==============================] - 14s 45ms/step - loss: 0.4149 - accuracy: 0.8174 - val_loss: 0.4593 - val_accuracy: 0.7848\n",
            "Epoch 42/100\n",
            "313/313 [==============================] - 14s 45ms/step - loss: 0.4133 - accuracy: 0.8176 - val_loss: 0.4591 - val_accuracy: 0.7908\n",
            "Epoch 43/100\n",
            "313/313 [==============================] - 14s 46ms/step - loss: 0.4115 - accuracy: 0.8184 - val_loss: 0.4612 - val_accuracy: 0.7856\n",
            "Epoch 44/100\n",
            "313/313 [==============================] - 15s 49ms/step - loss: 0.4101 - accuracy: 0.8201 - val_loss: 0.4594 - val_accuracy: 0.7824\n",
            "Epoch 45/100\n",
            "313/313 [==============================] - 15s 48ms/step - loss: 0.4084 - accuracy: 0.8206 - val_loss: 0.4613 - val_accuracy: 0.7838\n"
          ]
        }
      ]
    },
    {
      "cell_type": "code",
      "source": [
        "plt.plot(history.history['loss'])\n",
        "plt.plot(history.history['val_loss'])\n",
        "plt.xlabel('epoch')\n",
        "plt.ylabel('loss')\n",
        "plt.legend(['train','val'])\n",
        "plt.show()"
      ],
      "metadata": {
        "colab": {
          "base_uri": "https://localhost:8080/",
          "height": 449
        },
        "id": "LDTeN_WPtPJS",
        "outputId": "2a849e69-1237-43d3-9a1d-4686ccfb3f76"
      },
      "execution_count": 23,
      "outputs": [
        {
          "output_type": "display_data",
          "data": {
            "text/plain": [
              "<Figure size 640x480 with 1 Axes>"
            ],
            "image/png": "[encoded data removed]"
          },
          "metadata": {}
        }
      ]
    },
    {
      "cell_type": "code",
      "source": [
        "from tensorflow import keras\n",
        "\n",
        "model2 = keras.Sequential()\n",
        "model2.add(keras.layers.Embedding(500, 16, input_length=100))\n",
        "model2.add(keras.layers.SimpleRNN(8))\n",
        "model2.add(keras.layers.Dense(1, activation='sigmoid'))\n",
        "\n",
        "model2.summary()"
      ],
      "metadata": {
        "colab": {
          "base_uri": "https://localhost:8080/"
        },
        "id": "qXMr2qwWtQhT",
        "outputId": "98386044-02fe-4776-fb9a-672c308d1903"
      },
      "execution_count": 6,
      "outputs": [
        {
          "output_type": "stream",
          "name": "stdout",
          "text": [
            "Model: \"sequential\"\n",
            "_________________________________________________________________\n",
            " Layer (type)                Output Shape              Param #   \n",
            "=================================================================\n",
            " embedding (Embedding)       (None, 100, 16)           8000      \n",
            "                                                                 \n",
            " simple_rnn (SimpleRNN)      (None, 8)                 200       \n",
            "                                                                 \n",
            " dense (Dense)               (None, 1)                 9         \n",
            "                                                                 \n",
            "=================================================================\n",
            "Total params: 8,209\n",
            "Trainable params: 8,209\n",
            "Non-trainable params: 0\n",
            "_________________________________________________________________\n"
          ]
        }
      ]
    },
    {
      "cell_type": "code",
      "source": [
        "rmsprop = keras.optimizers.RMSprop(learning_rate=1e-4)\n",
        "model2.compile(optimizer=rmsprop, loss='binary_crossentropy', metrics=['accuracy'])\n",
        "checkpoint_cb = keras.callbacks.ModelCheckpoint('best-simplernn-model.h5')\n",
        "early_stopping_cb = keras.callbacks.EarlyStopping(patience=3, restore_best_weights=True)\n",
        "history2 = model2.fit(train_seq, train_target, epochs=100, batch_size=64, validation_data=(val_seq, val_target), callbacks=[checkpoint_cb, early_stopping_cb])"
      ],
      "metadata": {
        "colab": {
          "base_uri": "https://localhost:8080/"
        },
        "id": "xIhRs8J3t3Jt",
        "outputId": "c39c96a8-abb9-4e86-fa41-27f52007b9d2"
      },
      "execution_count": 8,
      "outputs": [
        {
          "output_type": "stream",
          "name": "stdout",
          "text": [
            "Epoch 1/100\n",
            "313/313 [==============================] - 43s 118ms/step - loss: 0.6961 - accuracy: 0.5056 - val_loss: 0.6945 - val_accuracy: 0.5038\n",
            "Epoch 2/100\n",
            "313/313 [==============================] - 34s 109ms/step - loss: 0.6906 - accuracy: 0.5275 - val_loss: 0.6916 - val_accuracy: 0.5218\n",
            "Epoch 3/100\n",
            "313/313 [==============================] - 33s 104ms/step - loss: 0.6855 - accuracy: 0.5566 - val_loss: 0.6879 - val_accuracy: 0.5396\n",
            "Epoch 4/100\n",
            "313/313 [==============================] - 33s 104ms/step - loss: 0.6777 - accuracy: 0.5932 - val_loss: 0.6802 - val_accuracy: 0.5684\n",
            "Epoch 5/100\n",
            "313/313 [==============================] - 32s 103ms/step - loss: 0.6479 - accuracy: 0.6700 - val_loss: 0.6352 - val_accuracy: 0.6970\n",
            "Epoch 6/100\n",
            "313/313 [==============================] - 32s 104ms/step - loss: 0.6125 - accuracy: 0.7190 - val_loss: 0.6087 - val_accuracy: 0.7200\n",
            "Epoch 7/100\n",
            "313/313 [==============================] - 34s 109ms/step - loss: 0.5894 - accuracy: 0.7398 - val_loss: 0.5907 - val_accuracy: 0.7308\n",
            "Epoch 8/100\n",
            "313/313 [==============================] - 33s 104ms/step - loss: 0.5694 - accuracy: 0.7555 - val_loss: 0.5677 - val_accuracy: 0.7512\n",
            "Epoch 9/100\n",
            "313/313 [==============================] - 32s 100ms/step - loss: 0.5502 - accuracy: 0.7653 - val_loss: 0.5549 - val_accuracy: 0.7562\n",
            "Epoch 10/100\n",
            "313/313 [==============================] - 32s 104ms/step - loss: 0.5339 - accuracy: 0.7728 - val_loss: 0.5434 - val_accuracy: 0.7592\n",
            "Epoch 11/100\n",
            "313/313 [==============================] - 32s 102ms/step - loss: 0.5194 - accuracy: 0.7790 - val_loss: 0.5329 - val_accuracy: 0.7578\n",
            "Epoch 12/100\n",
            "313/313 [==============================] - 34s 109ms/step - loss: 0.5067 - accuracy: 0.7831 - val_loss: 0.5226 - val_accuracy: 0.7682\n",
            "Epoch 13/100\n",
            "313/313 [==============================] - 33s 106ms/step - loss: 0.4934 - accuracy: 0.7890 - val_loss: 0.5077 - val_accuracy: 0.7738\n",
            "Epoch 14/100\n",
            "313/313 [==============================] - 32s 101ms/step - loss: 0.4835 - accuracy: 0.7940 - val_loss: 0.5075 - val_accuracy: 0.7704\n",
            "Epoch 15/100\n",
            "313/313 [==============================] - 32s 104ms/step - loss: 0.4742 - accuracy: 0.7983 - val_loss: 0.4947 - val_accuracy: 0.7756\n",
            "Epoch 16/100\n",
            "313/313 [==============================] - 32s 103ms/step - loss: 0.4676 - accuracy: 0.7983 - val_loss: 0.4908 - val_accuracy: 0.7756\n",
            "Epoch 17/100\n",
            "313/313 [==============================] - 33s 106ms/step - loss: 0.4600 - accuracy: 0.8020 - val_loss: 0.4875 - val_accuracy: 0.7744\n",
            "Epoch 18/100\n",
            "313/313 [==============================] - 33s 106ms/step - loss: 0.4531 - accuracy: 0.8049 - val_loss: 0.4825 - val_accuracy: 0.7782\n",
            "Epoch 19/100\n",
            "313/313 [==============================] - 33s 104ms/step - loss: 0.4460 - accuracy: 0.8092 - val_loss: 0.4784 - val_accuracy: 0.7788\n",
            "Epoch 20/100\n",
            "313/313 [==============================] - 33s 105ms/step - loss: 0.4407 - accuracy: 0.8110 - val_loss: 0.4748 - val_accuracy: 0.7838\n",
            "Epoch 21/100\n",
            "313/313 [==============================] - 32s 101ms/step - loss: 0.4352 - accuracy: 0.8136 - val_loss: 0.4743 - val_accuracy: 0.7860\n",
            "Epoch 22/100\n",
            "313/313 [==============================] - 32s 102ms/step - loss: 0.4308 - accuracy: 0.8170 - val_loss: 0.4785 - val_accuracy: 0.7766\n",
            "Epoch 23/100\n",
            "313/313 [==============================] - 33s 105ms/step - loss: 0.4260 - accuracy: 0.8195 - val_loss: 0.4704 - val_accuracy: 0.7830\n",
            "Epoch 24/100\n",
            "313/313 [==============================] - 32s 102ms/step - loss: 0.4217 - accuracy: 0.8216 - val_loss: 0.4706 - val_accuracy: 0.7804\n",
            "Epoch 25/100\n",
            "313/313 [==============================] - 34s 108ms/step - loss: 0.4186 - accuracy: 0.8235 - val_loss: 0.4729 - val_accuracy: 0.7844\n",
            "Epoch 26/100\n",
            "313/313 [==============================] - 32s 103ms/step - loss: 0.4158 - accuracy: 0.8235 - val_loss: 0.4684 - val_accuracy: 0.7804\n",
            "Epoch 27/100\n",
            "313/313 [==============================] - 31s 100ms/step - loss: 0.4128 - accuracy: 0.8253 - val_loss: 0.4680 - val_accuracy: 0.7844\n",
            "Epoch 28/100\n",
            "313/313 [==============================] - 34s 108ms/step - loss: 0.4103 - accuracy: 0.8274 - val_loss: 0.4725 - val_accuracy: 0.7814\n",
            "Epoch 29/100\n",
            "313/313 [==============================] - 32s 101ms/step - loss: 0.4073 - accuracy: 0.8282 - val_loss: 0.4665 - val_accuracy: 0.7852\n",
            "Epoch 30/100\n",
            "313/313 [==============================] - 32s 102ms/step - loss: 0.4050 - accuracy: 0.8302 - val_loss: 0.4657 - val_accuracy: 0.7852\n",
            "Epoch 31/100\n",
            "313/313 [==============================] - 33s 107ms/step - loss: 0.4029 - accuracy: 0.8301 - val_loss: 0.4667 - val_accuracy: 0.7838\n",
            "Epoch 32/100\n",
            "313/313 [==============================] - 33s 106ms/step - loss: 0.4015 - accuracy: 0.8326 - val_loss: 0.4644 - val_accuracy: 0.7854\n",
            "Epoch 33/100\n",
            "313/313 [==============================] - 32s 103ms/step - loss: 0.3995 - accuracy: 0.8328 - val_loss: 0.4675 - val_accuracy: 0.7798\n",
            "Epoch 34/100\n",
            "313/313 [==============================] - 32s 103ms/step - loss: 0.3974 - accuracy: 0.8340 - val_loss: 0.4662 - val_accuracy: 0.7864\n",
            "Epoch 35/100\n",
            "313/313 [==============================] - 32s 101ms/step - loss: 0.3949 - accuracy: 0.8349 - val_loss: 0.4645 - val_accuracy: 0.7872\n"
          ]
        }
      ]
    },
    {
      "cell_type": "code",
      "source": [
        "plt.plot(history2.history['loss'])\n",
        "plt.plot(history2.history['val_loss'])\n",
        "plt.xlabel('epoch')\n",
        "plt.ylabel('loss')\n",
        "plt.legend(['train','val'])\n",
        "plt.show()"
      ],
      "metadata": {
        "colab": {
          "base_uri": "https://localhost:8080/",
          "height": 449
        },
        "id": "hN7PrPhGvMlA",
        "outputId": "4ea9e777-cbe1-46b0-961f-9beafbf1065f"
      },
      "execution_count": 11,
      "outputs": [
        {
          "output_type": "display_data",
          "data": {
            "text/plain": [
              "<Figure size 640x480 with 1 Axes>"
            ],
            "image/png": "[encoded data removed]"
          },
          "metadata": {}
        }
      ]
    }
  ]
}