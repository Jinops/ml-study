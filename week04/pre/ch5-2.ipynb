{
  "nbformat": 4,
  "nbformat_minor": 0,
  "metadata": {
    "colab": {
      "provenance": [],
      "authorship_tag": "ABX9TyM+hfLY4+HMNx90ACfRyQsi",
      "include_colab_link": true
    },
    "kernelspec": {
      "name": "python3",
      "display_name": "Python 3"
    },
    "language_info": {
      "name": "python"
    }
  },
  "cells": [
    {
      "cell_type": "markdown",
      "metadata": {
        "id": "view-in-github",
        "colab_type": "text"
      },
      "source": [
        "<a href=\"https://colab.research.google.com/github/Jinops/ml-study/blob/main/week04/pre/ch5-2.ipynb\" target=\"_parent\"><img src=\"https://colab.research.google.com/assets/colab-badge.svg\" alt=\"Open In Colab\"/></a>"
      ]
    },
    {
      "cell_type": "code",
      "execution_count": 2,
      "metadata": {
        "id": "JXkFVlDezoTH"
      },
      "outputs": [],
      "source": [
        "import pandas as pd\n",
        "wine = pd.read_csv('https://bit.ly/wine-date')\n",
        "\n",
        "data = wine[['alcohol','sugar','pH']].to_numpy()\n",
        "target = wine['class'].to_numpy()"
      ]
    },
    {
      "cell_type": "code",
      "source": [
        "from sklearn.model_selection import train_test_split\n",
        "train_input, test_input, train_target, test_target = train_test_split(data, target, test_size=0.2, random_state=42)"
      ],
      "metadata": {
        "id": "FjMlucXGzw6Y"
      },
      "execution_count": 3,
      "outputs": []
    },
    {
      "cell_type": "code",
      "source": [
        "from sklearn.model_selection import train_test_split\n",
        "sub_input, val_input, sub_target, val_target = train_test_split(train_input, train_target, test_size=0.2, random_state=42)"
      ],
      "metadata": {
        "id": "3s6CHHYF0HYR"
      },
      "execution_count": 4,
      "outputs": []
    },
    {
      "cell_type": "code",
      "source": [
        "print(sub_input.shape, val_input.shape, train_input.shape)"
      ],
      "metadata": {
        "colab": {
          "base_uri": "https://localhost:8080/"
        },
        "id": "UHpStsCu0MJa",
        "outputId": "bbe53d6b-400e-4544-c04b-20c79fb56f07"
      },
      "execution_count": 5,
      "outputs": [
        {
          "output_type": "stream",
          "name": "stdout",
          "text": [
            "(4157, 3) (1040, 3) (5197, 3)\n"
          ]
        }
      ]
    },
    {
      "cell_type": "code",
      "source": [
        "from sklearn.tree import DecisionTreeClassifier\n",
        "dt = DecisionTreeClassifier(random_state=42)\n",
        "dt.fit(sub_input, sub_target)\n",
        "print(dt.score(sub_input, sub_target))\n",
        "print(dt.score(val_input, val_target))"
      ],
      "metadata": {
        "colab": {
          "base_uri": "https://localhost:8080/"
        },
        "id": "3PlSNglo0XJn",
        "outputId": "84a369b9-08c8-4546-e4b3-92de147e4139"
      },
      "execution_count": 6,
      "outputs": [
        {
          "output_type": "stream",
          "name": "stdout",
          "text": [
            "0.9971133028626413\n",
            "0.864423076923077\n"
          ]
        }
      ]
    },
    {
      "cell_type": "code",
      "source": [
        "# k-fold cross validation\n",
        "from sklearn.model_selection import cross_validate\n",
        "scores = cross_validate(dt, train_input, train_target) # cv=StratifiedKFold가 자동 적용\n",
        "print(scores)\n",
        "\n",
        "import numpy as np\n",
        "print(np.mean(scores['test_score']))"
      ],
      "metadata": {
        "colab": {
          "base_uri": "https://localhost:8080/"
        },
        "id": "mBHcB_AE1R9e",
        "outputId": "9394c92d-3ed2-4570-cbfb-9383b2f4f2fe"
      },
      "execution_count": 7,
      "outputs": [
        {
          "output_type": "stream",
          "name": "stdout",
          "text": [
            "{'fit_time': array([0.05033183, 0.01314259, 0.01169634, 0.01231647, 0.01117682]), 'score_time': array([0.00175977, 0.00170612, 0.00221086, 0.00209737, 0.00235486]), 'test_score': array([0.86923077, 0.84615385, 0.87680462, 0.84889317, 0.83541867])}\n",
            "0.855300214703487\n"
          ]
        }
      ]
    },
    {
      "cell_type": "code",
      "source": [
        "# same as above : cross_validate에서 StratifiedKFold 분할기가 자동으로 적용 \n",
        "from sklearn.model_selection import StratifiedKFold\n",
        "\n",
        "splitter = StratifiedKFold(n_splits=10, shuffle=True, random_state=42)\n",
        "scores = cross_validate(dt, train_input, train_target, cv=splitter)\n",
        "print(np.mean(scores['test_score']))\n"
      ],
      "metadata": {
        "colab": {
          "base_uri": "https://localhost:8080/"
        },
        "id": "gKAIp1hM2Jvk",
        "outputId": "ca76c2f1-28fb-40dc-f714-1b46a8a7b837"
      },
      "execution_count": 8,
      "outputs": [
        {
          "output_type": "stream",
          "name": "stdout",
          "text": [
            "0.8574181117533719\n"
          ]
        }
      ]
    },
    {
      "cell_type": "code",
      "source": [
        "# grid search\n",
        "from sklearn.model_selection import GridSearchCV\n",
        "params = {'min_impurity_decrease': [0.0001, 0.0002, 0.0003, 0.0004, 0.0005]}\n",
        "gs = GridSearchCV(DecisionTreeClassifier(), params, n_jobs=-1)\n",
        "gs.fit(train_input, train_target)\n",
        "\n",
        "dt = gs.best_estimator_\n",
        "print('params: ', gs.best_params_)\n",
        "print('score: ', dt.score(train_input, train_target))\n",
        "print('best validation score: ', np.max(gs.cv_results_['mean_test_score']))"
      ],
      "metadata": {
        "colab": {
          "base_uri": "https://localhost:8080/"
        },
        "id": "wohsHHMZ4oob",
        "outputId": "0668f7d6-3677-4ab4-9f6a-11d1427d0653"
      },
      "execution_count": 30,
      "outputs": [
        {
          "output_type": "stream",
          "name": "stdout",
          "text": [
            "params:  {'min_impurity_decrease': 0.0001}\n",
            "score:  0.9615162593804117\n",
            "best validation score:  0.8683858369734212\n"
          ]
        }
      ]
    },
    {
      "cell_type": "code",
      "source": [
        "params = {'min_impurity_decrease': np.arange(0.0001, 0.001, 0.0001),\n",
        "          'max_depth': range(5,20,1),\n",
        "          'min_samples_split': range(2,100,10)\n",
        "          }\n",
        "\n",
        "gs = GridSearchCV(DecisionTreeClassifier(random_state=42), params, n_jobs=-1)\n",
        "gs.fit(train_input, train_target)\n",
        "\n",
        "print(gs.best_params_)"
      ],
      "metadata": {
        "colab": {
          "base_uri": "https://localhost:8080/"
        },
        "id": "zhCJde4nY8nU",
        "outputId": "4edca24f-f386-4b0a-ec5c-13bf4159afb7"
      },
      "execution_count": 17,
      "outputs": [
        {
          "output_type": "stream",
          "name": "stdout",
          "text": [
            "{'max_depth': 14, 'min_impurity_decrease': 0.0004, 'min_samples_split': 12}\n"
          ]
        }
      ]
    },
    {
      "cell_type": "code",
      "source": [
        "from scipy.stats import uniform, randint\n",
        "\n",
        "rgen = randint(0, 10) #범위 지정\n",
        "rgen.rvs(10) #n개 생성\n",
        "#np.unique(rgen.rvs(1000), return_counts=True)\n",
        "\n",
        "ugen = uniform(0,1)\n",
        "ugen.rvs(10)\n"
      ],
      "metadata": {
        "colab": {
          "base_uri": "https://localhost:8080/"
        },
        "id": "FUFxR9ooZ1yn",
        "outputId": "9c19aba3-5775-4c0a-e48d-3bd0f2883761"
      },
      "execution_count": 26,
      "outputs": [
        {
          "output_type": "execute_result",
          "data": {
            "text/plain": [
              "array([0.55940948, 0.54200009, 0.17624767, 0.81799785, 0.5936852 ,\n",
              "       0.69860624, 0.63401684, 0.65354776, 0.48819842, 0.10820849])"
            ]
          },
          "metadata": {},
          "execution_count": 26
        }
      ]
    },
    {
      "cell_type": "code",
      "source": [
        "from scipy.stats import uniform, randint\n",
        "params = {'min_impurity_decrease': uniform(0.0001, 0.001),\n",
        "          'max_depth': randint(20, 50),\n",
        "          'min_samples_split': randint(2,25),\n",
        "          'min_samples_leaf': range(1,25), # not random\n",
        "          }\n",
        "\n",
        "from sklearn.model_selection import RandomizedSearchCV\n",
        "gs = RandomizedSearchCV(DecisionTreeClassifier(), params, n_iter=100, n_jobs=-1)\n",
        "gs.fit(train_input, train_target)\n",
        "\n",
        "dt = gs.best_estimator_\n",
        "print('params: ', gs.best_params_)\n",
        "print('train score: ', dt.score(train_input, train_target))\n",
        "print('validation score: ', gs.cv_results_['mean_test_score'])\n",
        "print('test score: ', dt.score(test_input, test_target))"
      ],
      "metadata": {
        "colab": {
          "base_uri": "https://localhost:8080/"
        },
        "id": "6BRutXhjahMQ",
        "outputId": "e9a13f70-5aea-47f5-e2a0-5e9c771c0463"
      },
      "execution_count": 32,
      "outputs": [
        {
          "output_type": "stream",
          "name": "stdout",
          "text": [
            "params:  {'max_depth': 31, 'min_impurity_decrease': 0.0005060710854584864, 'min_samples_leaf': 5, 'min_samples_split': 15}\n",
            "train score:  0.8870502212815086\n",
            "validation score:  [0.86800104 0.86145961 0.86068983 0.86184478 0.86626971 0.86222773\n",
            " 0.86222755 0.86396146 0.86222755 0.86415266 0.86126731 0.86473014\n",
            " 0.86569316 0.86665414 0.86165174 0.86241986 0.86049808 0.86357518\n",
            " 0.86780873 0.86338473 0.86203487 0.86184275 0.86800122 0.86165044\n",
            " 0.86184478 0.86222847 0.86338454 0.86088306 0.86338139 0.86434626\n",
            " 0.86261327 0.86222884 0.865499   0.86280521 0.86126731 0.86299845\n",
            " 0.86184312 0.86530743 0.86434664 0.86338473 0.86222958 0.86165026\n",
            " 0.86203524 0.86511494 0.86280484 0.86242097 0.86222884 0.8629977\n",
            " 0.86126712 0.86357703 0.86145961 0.86780928 0.86203728 0.86781039\n",
            " 0.86242004 0.86261253 0.86145961 0.86280503 0.86819594 0.86184478\n",
            " 0.86280484 0.86203709 0.86838658 0.86511513 0.86222773 0.86261309\n",
            " 0.86434478 0.86299974 0.8668483  0.86222773 0.86800344 0.86030521\n",
            " 0.86550067 0.86357592 0.8647307  0.86704079 0.86357444 0.86222773\n",
            " 0.86261272 0.86338454 0.86107518 0.86511513 0.86569186 0.86415174\n",
            " 0.86453839 0.86203635 0.86165044 0.86242097 0.86511401 0.86145795\n",
            " 0.86319223 0.86665433 0.86357703 0.8629977  0.86338473 0.86203487\n",
            " 0.86319186 0.86165211 0.86126749 0.86280484]\n",
            "test score:  0.8584615384615385\n"
          ]
        }
      ]
    }
  ]
}